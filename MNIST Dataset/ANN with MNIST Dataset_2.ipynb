{
 "cells": [
  {
   "cell_type": "code",
   "execution_count": 1,
   "id": "d2ef0fa7",
   "metadata": {},
   "outputs": [],
   "source": [
    "import numpy as np\n",
    "import pandas as pd\n",
    "import torch\n",
    "import torch.nn as nn\n",
    "import torch.nn.functional as F\n",
    "import matplotlib.pyplot as plt\n",
    "from torch.utils.data import DataLoader\n",
    "from torchvision import datasets, transforms\n",
    "from torchvision.utils import make_grid"
   ]
  },
  {
   "cell_type": "code",
   "execution_count": 3,
   "id": "8ab52baf",
   "metadata": {},
   "outputs": [],
   "source": [
    "transform = transforms.ToTensor()"
   ]
  },
  {
   "cell_type": "code",
   "execution_count": 4,
   "id": "02054ac6",
   "metadata": {},
   "outputs": [],
   "source": [
    "train_data = datasets.MNIST(root = '/home/maxime3343/Documents/Jupyter NoteBook/Image Datasets', train = True, download=True, transform=transform)"
   ]
  },
  {
   "cell_type": "code",
   "execution_count": 5,
   "id": "3f98431b",
   "metadata": {},
   "outputs": [
    {
     "data": {
      "text/plain": [
       "Dataset MNIST\n",
       "    Number of datapoints: 60000\n",
       "    Root location: /home/maxime3343/Documents/Jupyter NoteBook/Image Datasets\n",
       "    Split: Train\n",
       "    StandardTransform\n",
       "Transform: ToTensor()"
      ]
     },
     "execution_count": 5,
     "metadata": {},
     "output_type": "execute_result"
    }
   ],
   "source": [
    "train_data"
   ]
  },
  {
   "cell_type": "code",
   "execution_count": 6,
   "id": "7fa8937a",
   "metadata": {},
   "outputs": [],
   "source": [
    "test_data = datasets.MNIST(root='/home/maxime3343/Documents/Jupyter NoteBook/Image Datasets',train = False, download = True, transform=transform)"
   ]
  },
  {
   "cell_type": "code",
   "execution_count": 7,
   "id": "9e2df65a",
   "metadata": {},
   "outputs": [
    {
     "data": {
      "text/plain": [
       "Dataset MNIST\n",
       "    Number of datapoints: 10000\n",
       "    Root location: /home/maxime3343/Documents/Jupyter NoteBook/Image Datasets\n",
       "    Split: Test\n",
       "    StandardTransform\n",
       "Transform: ToTensor()"
      ]
     },
     "execution_count": 7,
     "metadata": {},
     "output_type": "execute_result"
    }
   ],
   "source": [
    "test_data"
   ]
  },
  {
   "cell_type": "code",
   "execution_count": 8,
   "id": "038f44e6",
   "metadata": {},
   "outputs": [
    {
     "data": {
      "text/plain": [
       "<matplotlib.image.AxesImage at 0x7ff0524e96d0>"
      ]
     },
     "execution_count": 8,
     "metadata": {},
     "output_type": "execute_result"
    },
    {
     "data": {
      "image/png": "[encoded data removed]",
      "text/plain": [
       "<Figure size 640x480 with 1 Axes>"
      ]
     },
     "metadata": {},
     "output_type": "display_data"
    }
   ],
   "source": [
    "image, label = train_data[0]\n",
    "plt.imshow(image.reshape(28,28), cmap='gray')"
   ]
  },
  {
   "cell_type": "code",
   "execution_count": 9,
   "id": "00a61038",
   "metadata": {},
   "outputs": [],
   "source": [
    "train_loader = DataLoader(train_data, batch_size = 100, shuffle = True)\n",
    "test_loader = DataLoader(test_data, batch_size=500, shuffle = True)\n",
    "# Create batches out of our training and test datasets"
   ]
  },
  {
   "cell_type": "code",
   "execution_count": 11,
   "id": "5274e5c0",
   "metadata": {},
   "outputs": [
    {
     "data": {
      "text/plain": [
       "torch.Size([100, 1, 28, 28])"
      ]
     },
     "execution_count": 11,
     "metadata": {},
     "output_type": "execute_result"
    }
   ],
   "source": [
    "for images, labels in train_loader:\n",
    "    break\n",
    "images.shape"
   ]
  },
  {
   "cell_type": "code",
   "execution_count": 14,
   "id": "2cdba9e2",
   "metadata": {},
   "outputs": [
    {
     "data": {
      "text/plain": [
       "<matplotlib.image.AxesImage at 0x7ff04fbb42d0>"
      ]
     },
     "execution_count": 14,
     "metadata": {},
     "output_type": "execute_result"
    },
    {
     "data": {
      "image/png": "[encoded data removed]",
      "text/plain": [
       "<Figure size 640x480 with 1 Axes>"
      ]
     },
     "metadata": {},
     "output_type": "display_data"
    }
   ],
   "source": [
    "im = make_grid(images[:12], nrow=12)\n",
    "plt.imshow(np.transpose(im.numpy(), (1,2,0)))"
   ]
  },
  {
   "cell_type": "code",
   "execution_count": 22,
   "id": "813023f3",
   "metadata": {},
   "outputs": [],
   "source": [
    "# ANN for MNSIT Dataset.\n",
    "\n",
    "# Model Flattens out the image automatically, which is an improvement.\n",
    "# Use of nn.Sequential to create our Neural Network.\n",
    "\n",
    "class Model(nn.Sequential):\n",
    "    def __init__(self, in_features = 784, out_features=10, layers=[120,84]):\n",
    "        super().__init__(\n",
    "            nn.Flatten(),\n",
    "            nn.ReLU(),\n",
    "            nn.Linear(in_features, layers[0]),\n",
    "            nn.ReLU(),\n",
    "            nn.Linear(layers[0], layers[1]),\n",
    "            nn.ReLU(),\n",
    "            nn.Linear(layers[1], out_features),\n",
    "            nn.LogSoftmax(dim=1)\n",
    "        )"
   ]
  },
  {
   "cell_type": "code",
   "execution_count": 25,
   "id": "33e84f2e",
   "metadata": {},
   "outputs": [],
   "source": [
    "model = Model()"
   ]
  },
  {
   "cell_type": "code",
   "execution_count": 26,
   "id": "9083e2e4",
   "metadata": {},
   "outputs": [
    {
     "data": {
      "text/plain": [
       "Model(\n",
       "  (0): Flatten(start_dim=1, end_dim=-1)\n",
       "  (1): ReLU()\n",
       "  (2): Linear(in_features=784, out_features=120, bias=True)\n",
       "  (3): ReLU()\n",
       "  (4): Linear(in_features=120, out_features=84, bias=True)\n",
       "  (5): ReLU()\n",
       "  (6): Linear(in_features=84, out_features=10, bias=True)\n",
       "  (7): LogSoftmax(dim=1)\n",
       ")"
      ]
     },
     "execution_count": 26,
     "metadata": {},
     "output_type": "execute_result"
    }
   ],
   "source": [
    "model"
   ]
  },
  {
   "cell_type": "code",
   "execution_count": 27,
   "id": "abf19e78",
   "metadata": {},
   "outputs": [],
   "source": [
    "learning_rate = 0.001"
   ]
  },
  {
   "cell_type": "code",
   "execution_count": 28,
   "id": "bd512b76",
   "metadata": {},
   "outputs": [],
   "source": [
    "criterion = nn.CrossEntropyLoss()\n",
    "optimizer = torch.optim.Adam(model.parameters(), lr = learning_rate)"
   ]
  },
  {
   "cell_type": "code",
   "execution_count": 29,
   "id": "3b4f0c5d",
   "metadata": {},
   "outputs": [],
   "source": [
    "epochs = 10"
   ]
  },
  {
   "cell_type": "code",
   "execution_count": 30,
   "id": "6fedcb2c",
   "metadata": {},
   "outputs": [
    {
     "name": "stdout",
     "output_type": "stream",
     "text": [
      "Epoch 0 batch:200 loss:0.3242891728878021\n",
      "Epoch 0 batch:400 loss:0.20964981615543365\n",
      "Epoch 0 batch:600 loss:0.2338968813419342\n",
      "Epoch 1 batch:200 loss:0.16981637477874756\n",
      "Epoch 1 batch:400 loss:0.1351710557937622\n",
      "Epoch 1 batch:600 loss:0.20448553562164307\n",
      "Epoch 2 batch:200 loss:0.09353902190923691\n",
      "Epoch 2 batch:400 loss:0.05747871473431587\n",
      "Epoch 2 batch:600 loss:0.17822867631912231\n",
      "Epoch 3 batch:200 loss:0.09654907137155533\n",
      "Epoch 3 batch:400 loss:0.1364956498146057\n",
      "Epoch 3 batch:600 loss:0.08403120189905167\n",
      "Epoch 4 batch:200 loss:0.07128051668405533\n",
      "Epoch 4 batch:400 loss:0.029411492869257927\n",
      "Epoch 4 batch:600 loss:0.035262662917375565\n",
      "Epoch 5 batch:200 loss:0.09632422775030136\n",
      "Epoch 5 batch:400 loss:0.06829632818698883\n",
      "Epoch 5 batch:600 loss:0.02404000796377659\n",
      "Epoch 6 batch:200 loss:0.04987999051809311\n",
      "Epoch 6 batch:400 loss:0.025402918457984924\n",
      "Epoch 6 batch:600 loss:0.009366842918097973\n",
      "Epoch 7 batch:200 loss:0.06897380948066711\n",
      "Epoch 7 batch:400 loss:0.04244985431432724\n",
      "Epoch 7 batch:600 loss:0.014843082055449486\n",
      "Epoch 8 batch:200 loss:0.032127708196640015\n",
      "Epoch 8 batch:400 loss:0.012646790593862534\n",
      "Epoch 8 batch:600 loss:0.03146697208285332\n",
      "Epoch 9 batch:200 loss:0.020313115790486336\n",
      "Epoch 9 batch:400 loss:0.011165518313646317\n",
      "Epoch 9 batch:600 loss:0.013538091443479061\n",
      "Total time taken by training: 57.83519506454468 seconds.\n"
     ]
    }
   ],
   "source": [
    "# Training with Training Dataset.\n",
    "\n",
    "import time\n",
    "start_time = time.time()\n",
    "\n",
    "#Trackers.\n",
    "train_losses = []\n",
    "test_losses = []\n",
    "correct_number = 0\n",
    "\n",
    "losses = []\n",
    "\n",
    "for i in range(epochs):\n",
    "    \n",
    "    # b is the count since we are using Python Enumerate, batch count to be more specific.\n",
    "    # (X_train, y_train) is a tuple we are getting back from the train_loader.\n",
    "    # Image and its label returned as a tuple.\n",
    "    for b, (X_train, y_train) in enumerate(train_loader):\n",
    "        b += 1 #Start the count at 1, and not 0\n",
    "        \n",
    "        # Returns 10 unnormalized logits for every image.\n",
    "        y_pred = model(X_train) \n",
    "        \n",
    "        # Requires unnormalized logits, with a label encoding.\n",
    "        trn_loss = criterion(y_pred, y_train)\n",
    "\n",
    "        # Performing Backpropagation\n",
    "        optimizer.zero_grad()\n",
    "        trn_loss.backward()\n",
    "        optimizer.step()\n",
    "        \n",
    "        # Print out the results.\n",
    "        if b%200 == 0:\n",
    "            print(f'Epoch {i} batch:{b} loss:{trn_loss.item()}')\n",
    "            \n",
    "    # Test Dataset as we training the data.\n",
    "    with torch.no_grad():\n",
    "        for b, (X_test, y_test) in enumerate(test_loader):\n",
    "            y_val = model(X_test)\n",
    "            tst_loss = criterion(y_val, y_test)\n",
    "        \n",
    "    # We append to both Losses Lists, so they have same number to be plotted out.\n",
    "    train_losses.append(trn_loss)\n",
    "    test_losses.append(tst_loss)\n",
    "        \n",
    "# Prints out total duration of training.    \n",
    "print(f'Total time taken by training: {time.time()-start_time} seconds.')"
   ]
  },
  {
   "cell_type": "code",
   "execution_count": 31,
   "id": "6572e5a7",
   "metadata": {},
   "outputs": [
    {
     "data": {
      "image/png": "[encoded data removed]",
      "text/plain": [
       "<Figure size 640x480 with 1 Axes>"
      ]
     },
     "metadata": {},
     "output_type": "display_data"
    }
   ],
   "source": [
    "# Plots out the Loss Function.\n",
    "\n",
    "# Epochs = 10.\n",
    "with torch.no_grad():\n",
    "    plt.plot(range(epochs), train_losses)\n",
    "    plt.plot(range(epochs), test_losses)\n",
    "    plt.ylabel('Loss')\n",
    "    plt.xlabel('Epoch')"
   ]
  },
  {
   "cell_type": "code",
   "execution_count": 33,
   "id": "8b346ecd",
   "metadata": {},
   "outputs": [
    {
     "name": "stdout",
     "output_type": "stream",
     "text": [
      "9755 numbers out of 10000 were guessed right by the Model. Gives out an accuracy of 97.54999542236328%\n"
     ]
    }
   ],
   "source": [
    "# Evaluation of the model.\n",
    "\n",
    "# Tracker.\n",
    "correct_number = 0\n",
    "\n",
    "with torch.no_grad():\n",
    "    for b, (X_test, y_test) in enumerate(test_loader):\n",
    "        y_val = model(X_test)\n",
    "        loss = criterion(y_val, y_test)\n",
    "    \n",
    "        prediction = torch.argmax(y_val, dim=1)\n",
    "        correct_number += (prediction==y_test).sum()\n",
    "        \n",
    "print(f'{correct_number} numbers out of 10000 were guessed right by the Model. Gives out an accuracy of {(correct_number/10000) * 100}%')"
   ]
  }
 ],
 "metadata": {
  "kernelspec": {
   "display_name": "Python 3 (ipykernel)",
   "language": "python",
   "name": "python3"
  },
  "language_info": {
   "codemirror_mode": {
    "name": "ipython",
    "version": 3
   },
   "file_extension": ".py",
   "mimetype": "text/x-python",
   "name": "python",
   "nbconvert_exporter": "python",
   "pygments_lexer": "ipython3",
   "version": "3.11.3"
  }
 },
 "nbformat": 4,
 "nbformat_minor": 5
}
