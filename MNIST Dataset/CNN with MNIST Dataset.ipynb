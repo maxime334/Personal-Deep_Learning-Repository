{
 "cells": [
  {
   "cell_type": "code",
   "execution_count": 42,
   "id": "387b7ba1",
   "metadata": {},
   "outputs": [],
   "source": [
    "import numpy as np\n",
    "import pandas as pd\n",
    "import torch\n",
    "import torch.nn as nn\n",
    "import torch.nn.functional as F\n",
    "import matplotlib.pyplot as plt\n",
    "from torch.utils.data import DataLoader\n",
    "from torchvision import datasets, transforms\n",
    "from torchvision.utils import make_grid\n",
    "from sklearn.metrics import confusion_matrix"
   ]
  },
  {
   "cell_type": "code",
   "execution_count": 43,
   "id": "b698837d",
   "metadata": {},
   "outputs": [],
   "source": [
    "transform = transforms.ToTensor()"
   ]
  },
  {
   "cell_type": "code",
   "execution_count": 44,
   "id": "f92477cb",
   "metadata": {},
   "outputs": [],
   "source": [
    "train_data = datasets.MNIST(root = '/home/maxime3343/Documents/Jupyter NoteBook/Image Datasets', train = True, download=True, transform=transform)"
   ]
  },
  {
   "cell_type": "code",
   "execution_count": 45,
   "id": "5dfc68be",
   "metadata": {},
   "outputs": [],
   "source": [
    "test_data = datasets.MNIST(root='/home/maxime3343/Documents/Jupyter NoteBook/Image Datasets',train = False, download = True, transform=transform)"
   ]
  },
  {
   "cell_type": "code",
   "execution_count": 46,
   "id": "354080c1",
   "metadata": {},
   "outputs": [],
   "source": [
    "train_loader = DataLoader(train_data, batch_size=10, shuffle=True)\n",
    "test_loader = DataLoader(test_data, batch_size=10, shuffle=True)"
   ]
  },
  {
   "cell_type": "code",
   "execution_count": 47,
   "id": "b842e819",
   "metadata": {},
   "outputs": [
    {
     "data": {
      "text/plain": [
       "<matplotlib.image.AxesImage at 0x7f287826dd50>"
      ]
     },
     "execution_count": 47,
     "metadata": {},
     "output_type": "execute_result"
    },
    {
     "data": {
      "image/png": "[encoded data removed]",
      "text/plain": [
       "<Figure size 640x480 with 1 Axes>"
      ]
     },
     "metadata": {},
     "output_type": "display_data"
    }
   ],
   "source": [
    "# Image sample from the Dataset.\n",
    "image, label = train_data[0]\n",
    "plt.imshow(image.reshape(28,28), cmap='gray')"
   ]
  },
  {
   "cell_type": "code",
   "execution_count": 48,
   "id": "52c9778a",
   "metadata": {},
   "outputs": [],
   "source": [
    "# Convolutional Neural Network.\n",
    "\n",
    "class Model(nn.Sequential):\n",
    "    \n",
    "    def __init__(self):\n",
    "        super().__init__(\n",
    "            # Outputs 6 filters out of the image.\n",
    "            # Losing 2 pixel on width and height because of the kernel_size.\n",
    "            nn.Conv2d(in_channels=1,out_channels=6, kernel_size=3, stride=1),\n",
    "            \n",
    "            # Activation Function.\n",
    "            nn.ReLU(),\n",
    "            \n",
    "            # Pooling Layer.\n",
    "            nn.MaxPool2d(2,2),\n",
    "            \n",
    "            # Another Conv Layer.\n",
    "            # We still have 6 channels, but each image should be reduced by 2 (width and height) to 13x13.\n",
    "            nn.Conv2d(in_channels=6, out_channels=16, kernel_size=3, stride=1),\n",
    "            nn.ReLU(),\n",
    "            \n",
    "            # We have an input image of 11x11 which ends up to 5x5.\n",
    "            nn.MaxPool2d(2,2),\n",
    "            \n",
    "            # We must flatten out the image before feeding it inside a Linear Layer.\n",
    "            # Flattens out the Channels, Width and Height.\n",
    "            nn.Flatten(),\n",
    "            \n",
    "            # Usual ANN layers.\n",
    "            nn.Linear(400,120),\n",
    "            nn.ReLU(),\n",
    "            nn.Linear(120,84),\n",
    "            nn.ReLU(),\n",
    "            nn.Linear(84,10),\n",
    "            nn.LogSoftmax(dim=1)\n",
    "        )"
   ]
  },
  {
   "cell_type": "code",
   "execution_count": 49,
   "id": "03f40bbd",
   "metadata": {},
   "outputs": [],
   "source": [
    "model = Model()"
   ]
  },
  {
   "cell_type": "code",
   "execution_count": 50,
   "id": "64828578",
   "metadata": {},
   "outputs": [
    {
     "name": "stdout",
     "output_type": "stream",
     "text": [
      "Here is the unnormalized logits output of size 10 from the model: tensor([[-2.2333, -2.4068, -2.2162, -2.3375, -2.2852, -2.2721, -2.3770, -2.2131,\n",
      "         -2.2958, -2.4145]])\n"
     ]
    }
   ],
   "source": [
    "# Quick example of the Model with one image only.\n",
    "\n",
    "# Changing dimension so it can be accepted within the network.\n",
    "# Acts as a batch_number parameter since batches will be fed trough the model.\n",
    "image = image.view(-1,1,28,28)\n",
    "with torch.no_grad():\n",
    "    out = model(image)\n",
    "    print(f'Here is the unnormalized logits output of size 10 from the model: {out}')"
   ]
  },
  {
   "cell_type": "code",
   "execution_count": 51,
   "id": "c94a3b72",
   "metadata": {},
   "outputs": [],
   "source": [
    "learning_rate = 0.001\n",
    "epochs = 5"
   ]
  },
  {
   "cell_type": "code",
   "execution_count": 52,
   "id": "e9f6e2e1",
   "metadata": {},
   "outputs": [],
   "source": [
    "criterion = nn.CrossEntropyLoss()\n",
    "optimizer = torch.optim.Adam(model.parameters(), lr=learning_rate)"
   ]
  },
  {
   "cell_type": "code",
   "execution_count": 53,
   "id": "97c36a12",
   "metadata": {},
   "outputs": [
    {
     "name": "stdout",
     "output_type": "stream",
     "text": [
      "Epoch 0 batch:2000 loss:0.12039627134799957\n",
      "Epoch 0 batch:4000 loss:0.05691085383296013\n",
      "Epoch 0 batch:6000 loss:0.009344806894659996\n",
      "Epoch 1 batch:2000 loss:0.032861270010471344\n",
      "Epoch 1 batch:4000 loss:0.00020014637266285717\n",
      "Epoch 1 batch:6000 loss:0.13383068144321442\n",
      "Epoch 2 batch:2000 loss:0.00236495747230947\n",
      "Epoch 2 batch:4000 loss:0.00010813582775881514\n",
      "Epoch 2 batch:6000 loss:0.1387176513671875\n",
      "Epoch 3 batch:2000 loss:0.0010467885294929147\n",
      "Epoch 3 batch:4000 loss:1.6331334336427972e-05\n",
      "Epoch 3 batch:6000 loss:0.007938762195408344\n",
      "Epoch 4 batch:2000 loss:0.003085253993049264\n",
      "Epoch 4 batch:4000 loss:0.004215872846543789\n",
      "Epoch 4 batch:6000 loss:1.879791307146661e-05\n",
      "Total time taken by training: 91.47966051101685 seconds\n"
     ]
    }
   ],
   "source": [
    "# Training with MNIST Dataset.\n",
    "\n",
    "import time\n",
    "start_time = time.time()\n",
    "\n",
    "#Trackers.\n",
    "train_losses = []\n",
    "test_losses = []\n",
    "\n",
    "for i in range(epochs):\n",
    "    \n",
    "    # Enumerating over the batches of our train_loader.\n",
    "    for b, (X_train, y_train) in enumerate(train_loader):\n",
    "        b+=1 # Start batch count at 1.\n",
    "        \n",
    "        # Getting back LogSoftmax of size 10.\n",
    "        y_pred = model(X_train)\n",
    "        \n",
    "        trn_loss = criterion(y_pred, y_train)\n",
    "        \n",
    "        # Performs Backpropagation.\n",
    "        optimizer.zero_grad()\n",
    "        trn_loss.backward()\n",
    "        optimizer.step()\n",
    "        \n",
    "        # Prints out some results during the training.\n",
    "        if b%2000 == 0:\n",
    "            print(f'Epoch {i} batch:{b} loss:{trn_loss.item()}')\n",
    "            \n",
    "            # Test Dataset as we are training the data.\n",
    "            with torch.no_grad():\n",
    "                for b, (X_test, y_test) in enumerate(test_loader):\n",
    "                    y_val = model(X_test)\n",
    "                    tst_loss = criterion(y_val, y_test)\n",
    "                    \n",
    "            # We append to both Losses Lists.\n",
    "            train_losses.append(trn_loss)\n",
    "            test_losses.append(tst_loss)\n",
    "    \n",
    "# Prints out total duration of the training.\n",
    "print(f'Total time taken by training: {time.time()-start_time} seconds')"
   ]
  },
  {
   "cell_type": "code",
   "execution_count": 54,
   "id": "0f04abd8",
   "metadata": {},
   "outputs": [
    {
     "data": {
      "image/png": "[encoded data removed]",
      "text/plain": [
       "<Figure size 640x480 with 1 Axes>"
      ]
     },
     "metadata": {},
     "output_type": "display_data"
    }
   ],
   "source": [
    "with torch.no_grad():\n",
    "    plt.plot(train_losses, label='train loss')\n",
    "    plt.plot(test_losses, label='test loss')\n",
    "    plt.xlabel('Epoch')\n",
    "    plt.ylabel('Loss')"
   ]
  },
  {
   "cell_type": "code",
   "execution_count": 55,
   "id": "749d8398",
   "metadata": {},
   "outputs": [
    {
     "name": "stdout",
     "output_type": "stream",
     "text": [
      "9892 numbers out of 10000 were guessed right by the Model. Gives out an accuracy of 98.91999816894531%\n"
     ]
    }
   ],
   "source": [
    "# Evaluation of the model.\n",
    "\n",
    "# Tracker.\n",
    "correct_number = 0\n",
    "\n",
    "with torch.no_grad():\n",
    "    for b, (X_test, y_test) in enumerate(test_loader):\n",
    "        y_val = model(X_test)\n",
    "        loss = criterion(y_val, y_test)\n",
    "    \n",
    "        prediction = torch.argmax(y_val, dim=1)\n",
    "        correct_number += (prediction==y_test).sum()\n",
    "        \n",
    "print(f'{correct_number} numbers out of 10000 were guessed right by the Model. Gives out an accuracy of {(correct_number/10000) * 100}%')"
   ]
  }
 ],
 "metadata": {
  "kernelspec": {
   "display_name": "Python 3 (ipykernel)",
   "language": "python",
   "name": "python3"
  },
  "language_info": {
   "codemirror_mode": {
    "name": "ipython",
    "version": 3
   },
   "file_extension": ".py",
   "mimetype": "text/x-python",
   "name": "python",
   "nbconvert_exporter": "python",
   "pygments_lexer": "ipython3",
   "version": "3.11.3"
  }
 },
 "nbformat": 4,
 "nbformat_minor": 5
}
