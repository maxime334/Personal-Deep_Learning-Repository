{
 "cells": [
  {
   "cell_type": "code",
   "execution_count": 68,
   "id": "d2ef0fa7",
   "metadata": {},
   "outputs": [],
   "source": [
    "import numpy as np\n",
    "import pandas as pd\n",
    "import torch\n",
    "import torch.nn as nn\n",
    "import torch.nn.functional as F\n",
    "import matplotlib.pyplot as plt\n",
    "from sklearn.model_selection import train_test_split\n",
    "from sklearn import preprocessing\n",
    "from torch.utils.data import TensorDataset, DataLoader, random_split\n",
    "from torchvision.utils import make_grid"
   ]
  },
  {
   "cell_type": "code",
   "execution_count": 69,
   "id": "cc1f7077",
   "metadata": {},
   "outputs": [],
   "source": [
    "from torch.utils.data import DataLoader\n",
    "from torchvision import datasets, transforms"
   ]
  },
  {
   "cell_type": "code",
   "execution_count": 70,
   "id": "8c8195db",
   "metadata": {},
   "outputs": [],
   "source": [
    "from sklearn.metrics import confusion_matrix"
   ]
  },
  {
   "cell_type": "code",
   "execution_count": 71,
   "id": "8ab52baf",
   "metadata": {},
   "outputs": [],
   "source": [
    "transform = transforms.ToTensor()"
   ]
  },
  {
   "cell_type": "code",
   "execution_count": 72,
   "id": "02054ac6",
   "metadata": {},
   "outputs": [],
   "source": [
    "train_data = datasets.MNIST(root = '/home/maxime3343/Documents/Jupyter NoteBook/Image Datasets', train = True, download=True, transform=transform)"
   ]
  },
  {
   "cell_type": "code",
   "execution_count": 91,
   "id": "3f98431b",
   "metadata": {},
   "outputs": [
    {
     "data": {
      "text/plain": [
       "Dataset MNIST\n",
       "    Number of datapoints: 60000\n",
       "    Root location: /home/maxime3343/Documents/Jupyter NoteBook/Image Datasets\n",
       "    Split: Train\n",
       "    StandardTransform\n",
       "Transform: ToTensor()"
      ]
     },
     "execution_count": 91,
     "metadata": {},
     "output_type": "execute_result"
    }
   ],
   "source": [
    "train_data"
   ]
  },
  {
   "cell_type": "code",
   "execution_count": 73,
   "id": "7fa8937a",
   "metadata": {},
   "outputs": [],
   "source": [
    "test_data = datasets.MNIST(root='/home/maxime3343/Documents/Jupyter NoteBook/Image Datasets',train = False, download = True, transform=transform)"
   ]
  },
  {
   "cell_type": "code",
   "execution_count": 92,
   "id": "9e2df65a",
   "metadata": {},
   "outputs": [
    {
     "data": {
      "text/plain": [
       "Dataset MNIST\n",
       "    Number of datapoints: 10000\n",
       "    Root location: /home/maxime3343/Documents/Jupyter NoteBook/Image Datasets\n",
       "    Split: Test\n",
       "    StandardTransform\n",
       "Transform: ToTensor()"
      ]
     },
     "execution_count": 92,
     "metadata": {},
     "output_type": "execute_result"
    }
   ],
   "source": [
    "test_data"
   ]
  },
  {
   "cell_type": "code",
   "execution_count": 106,
   "id": "038f44e6",
   "metadata": {},
   "outputs": [
    {
     "data": {
      "text/plain": [
       "<matplotlib.image.AxesImage at 0x7f82675344d0>"
      ]
     },
     "execution_count": 106,
     "metadata": {},
     "output_type": "execute_result"
    },
    {
     "data": {
      "image/png": "[encoded data removed]",
      "text/plain": [
       "<Figure size 640x480 with 1 Axes>"
      ]
     },
     "metadata": {},
     "output_type": "display_data"
    }
   ],
   "source": [
    "image, label = train_data[0]\n",
    "plt.imshow(image.reshape(28,28), cmap='gray')"
   ]
  },
  {
   "cell_type": "code",
   "execution_count": 76,
   "id": "00a61038",
   "metadata": {},
   "outputs": [],
   "source": [
    "train_loader = DataLoader(train_data, batch_size = 100, shuffle = True)\n",
    "test_loader = DataLoader(test_data, batch_size=500, shuffle = True)\n",
    "# Create batches out of our training and test datasets"
   ]
  },
  {
   "cell_type": "code",
   "execution_count": 77,
   "id": "5274e5c0",
   "metadata": {},
   "outputs": [
    {
     "data": {
      "text/plain": [
       "torch.Size([100, 1, 28, 28])"
      ]
     },
     "execution_count": 77,
     "metadata": {},
     "output_type": "execute_result"
    }
   ],
   "source": [
    "for images, labels in train_loader:\n",
    "    break\n",
    "images.shape\n",
    "# We have taken the first batch only\n",
    "# Why is it usable outside of the for loop?"
   ]
  },
  {
   "cell_type": "code",
   "execution_count": 78,
   "id": "2cdba9e2",
   "metadata": {},
   "outputs": [],
   "source": [
    "im = make_grid(images[:12], nrow=12)"
   ]
  },
  {
   "cell_type": "code",
   "execution_count": 79,
   "id": "283bb33a",
   "metadata": {},
   "outputs": [
    {
     "data": {
      "text/plain": [
       "<matplotlib.image.AxesImage at 0x7f826753ffd0>"
      ]
     },
     "execution_count": 79,
     "metadata": {},
     "output_type": "execute_result"
    },
    {
     "data": {
      "image/png": "[encoded data removed]",
      "text/plain": [
       "<Figure size 640x480 with 1 Axes>"
      ]
     },
     "metadata": {},
     "output_type": "display_data"
    }
   ],
   "source": [
    "plt.imshow(np.transpose(im.numpy(), (1,2,0)))"
   ]
  },
  {
   "cell_type": "code",
   "execution_count": 80,
   "id": "55e0fe4e",
   "metadata": {},
   "outputs": [],
   "source": [
    "# First way to create a Neural Network.\n",
    "\n",
    "class Model(nn.Module):\n",
    "    \n",
    "    def __init__(self,in_features = 784, out_features=10, layers=[120,84]):\n",
    "        super().__init__()\n",
    "        self.fc1 = nn.Linear(in_features, layers[0])\n",
    "        self.fc2 = nn.Linear(layers[0], layers[1])\n",
    "        self.fc3 = nn.Linear(layers[1], out_features)\n",
    "        \n",
    "    # Returns unnormalized logits bc of log_softmax.\n",
    "    def forward(self, X):\n",
    "        #Linear then Activation Function.\n",
    "        X = F.relu(self.fc1(X))\n",
    "        X = F.relu(self.fc2(X))\n",
    "        X = F.log_softmax(self.fc3(X), dim=1)\n",
    "        \n",
    "        # Returns a single floating point value.\n",
    "        \n",
    "        #X = F.log_softmax(self.fc3(X), dim = 1)\n",
    "        # Returns index of max value within output of log_softmax.\n",
    "        #X = torch.argmax(X, 1).type(torch.FloatTensor)\n",
    "        return X"
   ]
  },
  {
   "cell_type": "code",
   "execution_count": 60,
   "id": "813023f3",
   "metadata": {},
   "outputs": [],
   "source": [
    "# Second way to create a Neural Network.\n",
    "\n",
    "#model = nn.Sequential(\n",
    "#    nn.Linear(784,120),\n",
    " #   nn.ReLU(),\n",
    " #   nn.Linear(120,84),\n",
    " #   nn.ReLU(),\n",
    " #   nn.Linear(84,10),\n",
    " #   nn.LogSoftmax(dim = 1)\n",
    "#)"
   ]
  },
  {
   "cell_type": "code",
   "execution_count": 81,
   "id": "33e84f2e",
   "metadata": {},
   "outputs": [],
   "source": [
    "model = Model()"
   ]
  },
  {
   "cell_type": "code",
   "execution_count": 82,
   "id": "9083e2e4",
   "metadata": {},
   "outputs": [
    {
     "data": {
      "text/plain": [
       "Model(\n",
       "  (fc1): Linear(in_features=784, out_features=120, bias=True)\n",
       "  (fc2): Linear(in_features=120, out_features=84, bias=True)\n",
       "  (fc3): Linear(in_features=84, out_features=10, bias=True)\n",
       ")"
      ]
     },
     "execution_count": 82,
     "metadata": {},
     "output_type": "execute_result"
    }
   ],
   "source": [
    "model"
   ]
  },
  {
   "cell_type": "code",
   "execution_count": 83,
   "id": "abf19e78",
   "metadata": {},
   "outputs": [],
   "source": [
    "learning_rate = 0.001"
   ]
  },
  {
   "cell_type": "code",
   "execution_count": 84,
   "id": "bd512b76",
   "metadata": {},
   "outputs": [],
   "source": [
    "criterion = nn.CrossEntropyLoss()\n",
    "optimizer = torch.optim.Adam(model.parameters(), lr = learning_rate)"
   ]
  },
  {
   "cell_type": "code",
   "execution_count": 85,
   "id": "3b4f0c5d",
   "metadata": {},
   "outputs": [],
   "source": [
    "epochs = 10"
   ]
  },
  {
   "cell_type": "code",
   "execution_count": 86,
   "id": "6fedcb2c",
   "metadata": {},
   "outputs": [
    {
     "name": "stdout",
     "output_type": "stream",
     "text": [
      "Epoch 0 batch:200 loss:0.35047972202301025\n",
      "Epoch 0 batch:400 loss:0.20801374316215515\n",
      "Epoch 0 batch:600 loss:0.30364829301834106\n",
      "Epoch 1 batch:200 loss:0.16663120687007904\n",
      "Epoch 1 batch:400 loss:0.19569729268550873\n",
      "Epoch 1 batch:600 loss:0.16338682174682617\n",
      "Epoch 2 batch:200 loss:0.18400275707244873\n",
      "Epoch 2 batch:400 loss:0.13495512306690216\n",
      "Epoch 2 batch:600 loss:0.08136535435914993\n",
      "Epoch 3 batch:200 loss:0.11595814675092697\n",
      "Epoch 3 batch:400 loss:0.08770441263914108\n",
      "Epoch 3 batch:600 loss:0.039307523518800735\n",
      "Epoch 4 batch:200 loss:0.1104326844215393\n",
      "Epoch 4 batch:400 loss:0.09294156730175018\n",
      "Epoch 4 batch:600 loss:0.03783838823437691\n",
      "Epoch 5 batch:200 loss:0.09185132384300232\n",
      "Epoch 5 batch:400 loss:0.0646958127617836\n",
      "Epoch 5 batch:600 loss:0.03674071654677391\n",
      "Epoch 6 batch:200 loss:0.047082334756851196\n",
      "Epoch 6 batch:400 loss:0.01739180088043213\n",
      "Epoch 6 batch:600 loss:0.026477742940187454\n",
      "Epoch 7 batch:200 loss:0.042495936155319214\n",
      "Epoch 7 batch:400 loss:0.02165483869612217\n",
      "Epoch 7 batch:600 loss:0.01290028914809227\n",
      "Epoch 8 batch:200 loss:0.022724835202097893\n",
      "Epoch 8 batch:400 loss:0.013414301909506321\n",
      "Epoch 8 batch:600 loss:0.00788249634206295\n",
      "Epoch 9 batch:200 loss:0.011064269579946995\n",
      "Epoch 9 batch:400 loss:0.005978488363325596\n",
      "Epoch 9 batch:600 loss:0.044468022882938385\n",
      "Total time taken by training: 54.309375047683716 seconds.\n"
     ]
    }
   ],
   "source": [
    "# Training with Training Dataset.\n",
    "\n",
    "import time\n",
    "start_time = time.time()\n",
    "\n",
    "#Trackers.\n",
    "train_losses = []\n",
    "test_losses = []\n",
    "correct_number = 0\n",
    "\n",
    "losses = []\n",
    "\n",
    "for i in range(epochs):\n",
    "    \n",
    "    # b is the count since we are using Python Enumerate, batch count to be more specific.\n",
    "    # (X_train, y_train) is a tuple we are getting back from the train_loader.\n",
    "    # Image and its label returned as a tuple.\n",
    "    for b, (X_train, y_train) in enumerate(train_loader):\n",
    "        b += 1 #Start the count at 1, and not 0\n",
    "        \n",
    "        # Every image sample is flattened.\n",
    "        # Flattens out X_train to [100, 784].\n",
    "        # Returns 10 unnormalized logits.\n",
    "        y_pred = model(X_train.view(100,-1)) \n",
    "        \n",
    "        # Requires unnormalized logits, with a label encoding.\n",
    "        trn_loss = criterion(y_pred, y_train)\n",
    "\n",
    "        # Performing Backpropagation\n",
    "        optimizer.zero_grad()\n",
    "        trn_loss.backward()\n",
    "        optimizer.step()\n",
    "        \n",
    "        # Print out the results.\n",
    "        if b%200 == 0:\n",
    "            # Accuracy, which is the average number of correct per batch\n",
    "            #acc = (trn_corr*100)/(b*100) # No item required as already an int.\n",
    "            print(f'Epoch {i} batch:{b} loss:{trn_loss.item()}')\n",
    "            \n",
    "    # Test Dataset as we training the data.\n",
    "    with torch.no_grad():\n",
    "        for b, (X_test, y_test) in enumerate(test_loader):\n",
    "            y_val = model(X_test.view(500,-1))\n",
    "            tst_loss = criterion(y_val, y_test)\n",
    "        \n",
    "    # We append to both Losses Lists, so they have same number to be plotted out.\n",
    "    train_losses.append(trn_loss)\n",
    "    test_losses.append(tst_loss)\n",
    "        \n",
    "    # Shows which number the model thinks the image is.\n",
    "    prediction = torch.argmax(y_val, dim=1)\n",
    "    correct_number += (prediction==y_test).sum()\n",
    "         \n",
    "    \n",
    "# Prints out total duration of training.    \n",
    "print(f'Total time taken by training: {time.time()-start_time} seconds.')"
   ]
  },
  {
   "cell_type": "code",
   "execution_count": 87,
   "id": "6572e5a7",
   "metadata": {},
   "outputs": [
    {
     "data": {
      "image/png": "[encoded data removed]",
      "text/plain": [
       "<Figure size 640x480 with 1 Axes>"
      ]
     },
     "metadata": {},
     "output_type": "display_data"
    }
   ],
   "source": [
    "# Plots out the Loss Function.\n",
    "\n",
    "# Epochs = 10.\n",
    "with torch.no_grad():\n",
    "    plt.plot(range(epochs), train_losses)\n",
    "    plt.plot(range(epochs), test_losses)\n",
    "    plt.ylabel('Loss')\n",
    "    plt.xlabel('Epoch')"
   ]
  },
  {
   "cell_type": "code",
   "execution_count": 105,
   "id": "8b346ecd",
   "metadata": {},
   "outputs": [
    {
     "name": "stdout",
     "output_type": "stream",
     "text": [
      "9762 numbers out of 10000 were guessed right by the Model. Gives out an accuracy of 97.6199951171875%\n"
     ]
    }
   ],
   "source": [
    "# Evaluation of the model.\n",
    "\n",
    "# Tracker.\n",
    "correct_number = 0\n",
    "\n",
    "with torch.no_grad():\n",
    "    for b, (X_test, y_test) in enumerate(test_loader):\n",
    "        # View used because image is flatten out.\n",
    "        y_val = model(X_test.view(500,-1))\n",
    "        loss = criterion(y_val, y_test)\n",
    "    \n",
    "        prediction = torch.argmax(y_val, dim=1)\n",
    "        correct_number += (prediction==y_test).sum()\n",
    "        \n",
    "print(f'{correct_number} numbers out of 10000 were guessed right by the Model. Gives out an accuracy of {(correct_number/10000) * 100}%')"
   ]
  },
  {
   "cell_type": "code",
   "execution_count": null,
   "id": "c3d3f67e",
   "metadata": {},
   "outputs": [],
   "source": []
  }
 ],
 "metadata": {
  "kernelspec": {
   "display_name": "Python 3 (ipykernel)",
   "language": "python",
   "name": "python3"
  },
  "language_info": {
   "codemirror_mode": {
    "name": "ipython",
    "version": 3
   },
   "file_extension": ".py",
   "mimetype": "text/x-python",
   "name": "python",
   "nbconvert_exporter": "python",
   "pygments_lexer": "ipython3",
   "version": "3.11.3"
  }
 },
 "nbformat": 4,
 "nbformat_minor": 5
}
