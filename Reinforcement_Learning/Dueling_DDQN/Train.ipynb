{
 "cells": [
  {
   "cell_type": "code",
   "execution_count": 1,
   "id": "d0d8a076-8f3f-4151-b729-b6e63f5d1e6f",
   "metadata": {},
   "outputs": [
    {
     "name": "stdout",
     "output_type": "stream",
     "text": [
      "importing Jupyter notebook from Buffer.ipynb\n",
      "importing Jupyter notebook from Model.ipynb\n"
     ]
    }
   ],
   "source": [
    "import torch\n",
    "import torch.nn as nn\n",
    "import torch.nn.functional as F\n",
    "import numpy as np \n",
    "import pandas as pd\n",
    "import gymnasium as gym\n",
    "import random\n",
    "import math\n",
    "import matplotlib.pyplot as plt\n",
    "import import_ipynb\n",
    "from collections import namedtuple\n",
    "\n",
    "from Buffer import Experience\n",
    "from Buffer import ReplayMemory\n",
    "from Model import Agent"
   ]
  },
  {
   "cell_type": "code",
   "execution_count": 2,
   "id": "6aad8421-cc01-4343-98f4-7fd4b3c58471",
   "metadata": {},
   "outputs": [],
   "source": [
    "def train(agent: Agent, episodes):\n",
    "    '''\n",
    "        Trains the agent.\n",
    "        args:\n",
    "            Agent to train.\n",
    "            episodes: Number of episodes to train the agent.\n",
    "    '''\n",
    "    losses = []\n",
    "    ep_losses = []\n",
    "    ep_reward = []\n",
    "    \n",
    "    steps_done = 0\n",
    "\n",
    "    for k in range(episodes):\n",
    "            \n",
    "        # Starts envi.\n",
    "        state, info = agent.env.reset()\n",
    "        done = False\n",
    "    \n",
    "        # Statistics.\n",
    "        total_reward = 0\n",
    "    \n",
    "        while not done:\n",
    "            steps_done += 1\n",
    "            # Get decayed epsilon.\n",
    "            e = agent.decay(time=k, N_0=epsilon, decay_rate=decay_rate)\n",
    "                \n",
    "            action = agent.select_action(state, epsilon)\n",
    "            next_state, reward, done, _, _ = agent.env.step(action)\n",
    "            total_reward += reward\n",
    "\n",
    "            # Creates and saves the experience inside Replay Memory.\n",
    "            exp = Experience(state, action, reward, next_state, done)\n",
    "            agent.rm.push(exp)\n",
    "\n",
    "            # Optimization done at every step.\n",
    "            loss = agent.learn()\n",
    "            ep_losses.append(loss)\n",
    "\n",
    "            # Target copy.\n",
    "            if steps_done%4 == 0:\n",
    "                agent.network_copy()\n",
    "\n",
    "            state = next_state\n",
    "\n",
    "        # Trajectory reward.\n",
    "        ep_reward.append(total_reward)\n",
    "        \n",
    "        if k%10 == 0:\n",
    "            avg_reward = int(sum(ep_reward)/len(ep_reward))\n",
    "            # Average.\n",
    "            avg_loss = int(sum(ep_losses)/len(ep_losses))\n",
    "            losses.append(avg_loss)\n",
    "            print(f'Episode:{k} Reward:{avg_reward}')\n",
    "    return losses"
   ]
  },
  {
   "cell_type": "code",
   "execution_count": 14,
   "id": "9a483629-bd7b-4b40-b980-bec8e269acc0",
   "metadata": {},
   "outputs": [
    {
     "name": "stdout",
     "output_type": "stream",
     "text": [
      "Epsilon after 120 episodes is 0.1\n",
      "Episode:0 Reward:9\n",
      "Episode:10 Reward:9\n",
      "Episode:20 Reward:9\n",
      "Episode:30 Reward:9\n",
      "Episode:40 Reward:11\n",
      "Episode:50 Reward:11\n",
      "Episode:60 Reward:21\n",
      "Episode:70 Reward:39\n",
      "Episode:80 Reward:58\n",
      "Episode:90 Reward:81\n",
      "Episode:100 Reward:94\n",
      "Episode:110 Reward:105\n"
     ]
    },
    {
     "ename": "NameError",
     "evalue": "name 'k' is not defined",
     "output_type": "error",
     "traceback": [
      "\u001b[0;31m---------------------------------------------------------------------------\u001b[0m",
      "\u001b[0;31mNameError\u001b[0m                                 Traceback (most recent call last)",
      "Cell \u001b[0;32mIn[14], line 36\u001b[0m\n\u001b[1;32m     32\u001b[0m     total_reward \u001b[38;5;241m+\u001b[39m\u001b[38;5;241m=\u001b[39m reward\n\u001b[1;32m     34\u001b[0m     state \u001b[38;5;241m=\u001b[39m next_state\n\u001b[0;32m---> 36\u001b[0m \u001b[38;5;28mprint\u001b[39m(\u001b[38;5;124mf\u001b[39m\u001b[38;5;124m'\u001b[39m\u001b[38;5;124mEpisode:\u001b[39m\u001b[38;5;132;01m{\u001b[39;00m\u001b[43mk\u001b[49m\u001b[38;5;132;01m}\u001b[39;00m\u001b[38;5;124m Reward:\u001b[39m\u001b[38;5;132;01m{\u001b[39;00mtotal_reward\u001b[38;5;132;01m}\u001b[39;00m\u001b[38;5;124m'\u001b[39m)\n",
      "\u001b[0;31mNameError\u001b[0m: name 'k' is not defined"
     ]
    },
    {
     "data": {
      "image/png": "[encoded data removed]",
      "text/plain": [
       "<Figure size 640x480 with 1 Axes>"
      ]
     },
     "metadata": {},
     "output_type": "display_data"
    }
   ],
   "source": [
    "if __name__ == '__main__':\n",
    "    learning_rate = 1e-3\n",
    "    buffer_size = 50000\n",
    "    batch_size = 16\n",
    "    discount_rate = 0.99\n",
    "    C = 5\n",
    "    env = gym.make('CartPole-v1')\n",
    "    \n",
    "    a = Agent(env, 4, env.action_space.n, learning_rate, 128, buffer_size, discount_rate, C, batch_size)\n",
    "    \n",
    "    epsilon = 0.1\n",
    "    decay_rate = 0 # No decay has been applied, but around 0.005 can be used.\n",
    "    episodes = 120 # Use a number%10 == 0.\n",
    "    print(f'Epsilon after {episodes} episodes is {a.decay(episodes, epsilon, decay_rate)}')\n",
    "\n",
    "    losses = train(a, episodes)\n",
    "    # Plot loss.\n",
    "    plt.plot(range(int(episodes/10)), losses)\n",
    "\n",
    "    # Empties the memory.\n",
    "    torch.cuda.empty_cache()\n",
    "\n",
    "    # Evaluation.\n",
    "    envi = gym.make('CartPole-v1', render_mode='human')\n",
    "    state, info = envi.reset()\n",
    "    done = False\n",
    "    total_reward = 0\n",
    "    while not done:\n",
    "        # Epsilon = 0.\n",
    "        action = a.select_action(state, 0)\n",
    "        next_state, reward, done, _, _ = envi.step(action)\n",
    "        total_reward += reward\n",
    "    \n",
    "        state = next_state\n",
    "    \n",
    "    print(f'Reward:{total_reward}')"
   ]
  },
  {
   "cell_type": "code",
   "execution_count": null,
   "id": "2360b2a3-9fbc-4c5b-9213-6092c3516c86",
   "metadata": {},
   "outputs": [],
   "source": []
  }
 ],
 "metadata": {
  "kernelspec": {
   "display_name": "Python 3 (ipykernel)",
   "language": "python",
   "name": "python3"
  },
  "language_info": {
   "codemirror_mode": {
    "name": "ipython",
    "version": 3
   },
   "file_extension": ".py",
   "mimetype": "text/x-python",
   "name": "python",
   "nbconvert_exporter": "python",
   "pygments_lexer": "ipython3",
   "version": "3.11.6"
  }
 },
 "nbformat": 4,
 "nbformat_minor": 5
}
